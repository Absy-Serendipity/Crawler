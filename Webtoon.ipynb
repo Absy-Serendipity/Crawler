{
 "cells": [
  {
   "cell_type": "code",
   "execution_count": 1,
   "id": "af5bd832-109d-4766-be40-ae0f33b9f087",
   "metadata": {},
   "outputs": [],
   "source": [
    "class Webtoon:\n",
    "    def setWebtoon(self, platform, day, title, author, serializedDay, url, imageUrl, genre, summary):\n",
    "        self.platform = platform\n",
    "        self.day = day\n",
    "        self.title = title\n",
    "        self.author = author\n",
    "        self.serializedDay = serializedDay\n",
    "        self.url = url\n",
    "        self.imageUrl = imageUrl\n",
    "        self.genre = genre\n",
    "        self.summary = summary"
   ]
  },
  {
   "cell_type": "code",
   "execution_count": null,
   "id": "febea5a4-ff61-45f7-a91e-f76b92fd0d54",
   "metadata": {},
   "outputs": [],
   "source": []
  }
 ],
 "metadata": {
  "kernelspec": {
   "display_name": "Python 3 (ipykernel)",
   "language": "python",
   "name": "python3"
  },
  "language_info": {
   "codemirror_mode": {
    "name": "ipython",
    "version": 3
   },
   "file_extension": ".py",
   "mimetype": "text/x-python",
   "name": "python",
   "nbconvert_exporter": "python",
   "pygments_lexer": "ipython3",
   "version": "3.12.0"
  }
 },
 "nbformat": 4,
 "nbformat_minor": 5
}
