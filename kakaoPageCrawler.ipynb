{
 "cells": [
  {
   "cell_type": "code",
   "execution_count": 1,
   "id": "dabf3662-4abd-4206-b8db-b64037f415a3",
   "metadata": {},
   "outputs": [],
   "source": [
    "import requests\n",
    "from bs4 import BeautifulSoup\n",
    "from webdriver_manager.chrome import ChromeDriverManager\n",
    "import json\n",
    "import os\n",
    "from selenium.webdriver.common.keys import Keys\n",
    "from selenium import webdriver\n",
    "from selenium.webdriver.common.by import By\n",
    "from selenium.webdriver.support.ui import WebDriverWait\n",
    "from selenium.webdriver.support import expected_conditions as EC\n",
    "\n",
    "import time\n",
    "import platform"
   ]
  },
  {
   "cell_type": "code",
   "execution_count": 2,
   "id": "b1a8b8bd-2ce5-4d2f-9e96-adb41c329ebe",
   "metadata": {},
   "outputs": [],
   "source": [
    "from Webtoon import Webtoon \n",
    "from Episode import Episode \n",
    "from Platform import Platform \n",
    "from Crawler import Crawler "
   ]
  },
  {
   "cell_type": "code",
   "execution_count": 3,
   "id": "3d35b35c-9ec7-4d1a-92aa-6251c3a102b0",
   "metadata": {},
   "outputs": [
    {
     "data": {
      "text/plain": [
       "'C:\\\\Users\\\\pyj78\\\\.wdm\\\\drivers\\\\chromedriver\\\\win64\\\\119.0.6045.105\\\\chromedriver-win32/chromedriver.exe'"
      ]
     },
     "execution_count": 3,
     "metadata": {},
     "output_type": "execute_result"
    }
   ],
   "source": [
    "ChromeDriverManager().install()"
   ]
  },
  {
   "cell_type": "code",
   "execution_count": 4,
   "id": "957e1c8b-84c3-428f-ae8f-4fdd2e824a6d",
   "metadata": {},
   "outputs": [],
   "source": [
    "driver = webdriver.Chrome()"
   ]
  },
  {
   "cell_type": "code",
   "execution_count": 5,
   "id": "ec3a30c7-ae8c-4ed6-bf6c-5a7ed8070fc2",
   "metadata": {},
   "outputs": [],
   "source": [
    "days = [\n",
    "        \"mon\",\n",
    "        \"tue\",\n",
    "        \"wed\", \n",
    "        \"thu\", \n",
    "        \"fri\",\n",
    "        \"sat\",\n",
    "        \"sun\"\n",
    "    ]\n",
    "id = 0"
   ]
  },
  {
   "cell_type": "code",
   "execution_count": 6,
   "id": "ccf92276-beae-440d-a537-1f26efe01658",
   "metadata": {},
   "outputs": [],
   "source": [
    "unreachableUrls = []\n",
    "id = 0"
   ]
  },
  {
   "cell_type": "code",
   "execution_count": 7,
   "id": "9335384d-031a-4c6e-8f4f-0136d2cda5d1",
   "metadata": {},
   "outputs": [],
   "source": [
    "class KakaoPageCrawler(Crawler):\n",
    "    def __init__(self, driver, day):\n",
    "        self.driver = driver\n",
    "        self.platformName = \"kakaoPage\"\n",
    "        self.day = day\n",
    "\n",
    "        self.platform = Platform()\n",
    "        self.platform.setName(self.platformName)\n",
    "        self.platform.setDay(self.day)\n",
    "        \n",
    "        self.createFolder()\n",
    "        \n",
    "    def crawl(self):\n",
    "        \n",
    "        dayToNumberTable = {\n",
    "            \"mon\": 1,\n",
    "            \"tue\": 2,\n",
    "            \"wed\": 3, \n",
    "            \"thu\": 4, \n",
    "            \"fri\": 5,\n",
    "            \"sat\": 6,\n",
    "            \"sun\": 7\n",
    "        }\n",
    "        \n",
    "    \n",
    "        mainPageUrl = \"https://page.kakao.com/menu/10010/screen/52?tab_uid=\" + str(dayToNumberTable[self.day])\n",
    "        driver.get(mainPageUrl)\n",
    "        self.scrolDown()\n",
    "\n",
    "\n",
    "        webtoonElementList = driver.find_elements(By.XPATH, '//*[@id=\"__next\"]/div/div[2]/div/div[2]/div[1]/div/div[4]/div/div/div/div/a')\n",
    "        webtoonUrlList = []\n",
    "        for webtoonElement in webtoonElementList:\n",
    "            wait = WebDriverWait(webtoonElement, 5)\n",
    "            webtoonUrl = webtoonElement.get_attribute(\"href\")\n",
    "            webtoonUrlList.append(webtoonUrl)\n",
    "\n",
    "\n",
    "        for webtoonUrl in webtoonUrlList:\n",
    "            try:\n",
    "                webtoon = self.getWebtoon(webtoonUrl)\n",
    "                self.platform.addWebtoon(webtoon)\n",
    "            except:\n",
    "                unreachableUrls.append(webtoonUrl)\n",
    "                print(webtoonUrl + \" is unreachable\")\n",
    "            global id\n",
    "            id += 1\n",
    "            \n",
    "            \n",
    "        \n",
    "        webtoonFilePath = os.path.join(self.platformName, self.platformName + \"_\" + self.day)\n",
    "        self.saveToJson(webtoonFilePath, self.platform)\n",
    "        \n",
    "    def getWebtoon(self, webtoonUrl):\n",
    "        self.driver.get(webtoonUrl)\n",
    "        wait = WebDriverWait(self.driver, 5)\n",
    "        \n",
    "        title = wait.until(EC.presence_of_element_located((By.XPATH, '//*[@id=\"__next\"]/div/div[2]/div[1]/div[1]/div[1]/div/div[2]/a/div/span[1]'))).text\n",
    "        author = wait.until(EC.presence_of_element_located((By.XPATH, '//*[@id=\"__next\"]/div/div[2]/div[1]/div[1]/div[1]/div/div[2]/a/div/span[2]'))).text\n",
    "        serializedDay = wait.until(EC.presence_of_element_located((By.XPATH, '//*[@id=\"__next\"]/div/div[2]/div[1]/div[1]/div[1]/div/div[2]/a/div/div[2]/span'))).text\n",
    "        imageUrl = wait.until(EC.presence_of_element_located((By.XPATH, '//*[@id=\"__next\"]/div/div[2]/div[1]/div[1]/div[1]/div/div[1]/div[2]/div[2]/div/div/img'))).get_attribute(\"src\")\n",
    "        genre = wait.until(EC.presence_of_element_located((By.XPATH, '//*[@id=\"__next\"]/div/div[2]/div[1]/div[1]/div[1]/div/div[2]/a/div/div[1]/div[1]/div/span[2]'))).text\n",
    "        \n",
    "        \n",
    "        episodes = self.getEpisodes()\n",
    "        global id\n",
    "        episodeFilePath = os.path.join( self.platformName, \"webtoons\",\"kp\" + str(id))\n",
    "        self.saveToJson(episodeFilePath, episodes)\n",
    "\n",
    "        summary = self.getSummary(wait)\n",
    "        webtoon = Webtoon()\n",
    "        webtoon.setWebtoon(self.platformName, self.day, id, title, author, serializedDay, webtoonUrl, imageUrl, genre, summary )\n",
    "\n",
    "        \n",
    "\n",
    "        return webtoon\n",
    "\n",
    "\n",
    "    def getSummary(self, waitElement):\n",
    "        infoUrl = waitElement.until(EC.presence_of_element_located((By.XPATH, '//*[@id=\"__next\"]/div/div[2]/div[1]/div[2]/div[1]/div/div/div[2]/a'))).get_attribute(\"href\")\n",
    "        self.driver.get(infoUrl)\n",
    "        wait = WebDriverWait(self.driver, 5)\n",
    "        \n",
    "        return wait.until(EC.presence_of_element_located((By.XPATH, '//*[@id=\"__next\"]/div/div[2]/div[1]/div[2]/div[2]/div/div[1]/div[2]/div[2]/div/div[1]/span'))).text\n",
    "\n",
    "    \n",
    "    def getEpisodes(self):\n",
    "        self.showAllEpisodes()\n",
    "        episodeList = []\n",
    "        episodeElementList = driver.find_elements(By.XPATH, '//*[@id=\"__next\"]/div/div[2]/div[1]/div[2]/div[2]/div[1]/div[2]/div[1]/ul/li')\n",
    "        for episodeElement in episodeElementList:\n",
    "            wait = WebDriverWait(episodeElement, 5)\n",
    "            \n",
    "            \n",
    "            title = wait.until(EC.presence_of_element_located((By.XPATH, 'div/div/a/div/div[2]/div[1]'))).text.replace(\"\\n\", \"\")\n",
    "            url = wait.until(EC.presence_of_element_located((By.XPATH, 'div/div/a'))).get_attribute(\"href\")\n",
    "            imageUrl = wait.until(EC.presence_of_element_located((By.TAG_NAME, 'img'))).get_attribute(\"src\")\n",
    "            publicationDate = wait.until(EC.presence_of_element_located((By.XPATH, 'div/div/a/div/div[2]/div[2]/span'))).text\n",
    "            \n",
    "\n",
    "            episode = Episode(title, url, imageUrl, publicationDate)\n",
    "\n",
    "            episodeList.append(episode)\n",
    "\n",
    "        return episodeList\n",
    "            \n",
    "            \n",
    "    \n",
    "    def showAllEpisodes(self):\n",
    "        wait = WebDriverWait(self.driver, 1)\n",
    "        while True:\n",
    "            try:\n",
    "                time.sleep(1)\n",
    "                moreButton = wait.until(EC.element_to_be_clickable((By.XPATH, '//*[@id=\"__next\"]/div/div[2]/div[1]/div[2]/div[2]/div[1]/div[2]/div[2]/img')))\n",
    "                moreButton.click()\n",
    "            except Exception as e:\n",
    "                break\n",
    "            \n",
    "    def scrolDown(self):\n",
    "        while True:\n",
    "            # 현재 높이 저장\n",
    "            last_height = self.driver.execute_script(\"return document.body.scrollHeight\")\n",
    "        \n",
    "            # 페이지 가장 아래로 스크롤\n",
    "            driver.execute_script(\"window.scrollTo(0, document.body.scrollHeight);\")\n",
    "        \n",
    "            # 스크롤이 끝나기까지 잠시 대기\n",
    "            time.sleep(1)\n",
    "        \n",
    "            # 새로운 높이 계산\n",
    "            new_height = self.driver.execute_script(\"return document.body.scrollHeight\")\n",
    "        \n",
    "            # 더 이상 스크롤할 내용이 없으면 반복 종료\n",
    "            if new_height == last_height:\n",
    "                break\n",
    "\n",
    "        # body = driver.find_element(By.CSS_SELECTOR, 'body')\n",
    "        # body.send_keys(Keys.END)\n",
    "        \n"
   ]
  },
  {
   "cell_type": "code",
   "execution_count": 8,
   "id": "5968c6d1-5546-47a5-9705-0ad98a76750b",
   "metadata": {},
   "outputs": [],
   "source": [
    "# for day in days:\n",
    "#     kakaoPageCrawler = KakaoPageCrawler(driver, day)\n",
    "#     kakaoPageCrawler.crawl()"
   ]
  },
  {
   "cell_type": "code",
   "execution_count": 9,
   "id": "9986a398-0844-4fcd-9ad9-a379fb622657",
   "metadata": {},
   "outputs": [
    {
     "name": "stdout",
     "output_type": "stream",
     "text": [
      "Folder 'C:\\Users\\pyj78\\Desktop\\webtoon\\kakaoPage' created successfully\n",
      "Folder 'kakaoPage\\webtoons' created successfully\n",
      "https://page.kakao.com/content/62743785 is unreachable\n",
      "https://page.kakao.com/content/62851300 is unreachable\n",
      "https://page.kakao.com/content/62101502 is unreachable\n",
      "https://page.kakao.com/content/62407115 is unreachable\n",
      "https://page.kakao.com/content/61271601 is unreachable\n",
      "https://page.kakao.com/content/62473764 is unreachable\n",
      "https://page.kakao.com/content/61453042 is unreachable\n",
      "https://page.kakao.com/content/56702100 is unreachable\n",
      "https://page.kakao.com/content/54884637 is unreachable\n",
      "https://page.kakao.com/content/60561657 is unreachable\n",
      "https://page.kakao.com/content/61770596 is unreachable\n",
      "https://page.kakao.com/content/60257175 is unreachable\n",
      "https://page.kakao.com/content/61547597 is unreachable\n",
      "https://page.kakao.com/content/59942846 is unreachable\n",
      "https://page.kakao.com/content/55482233 is unreachable\n",
      "https://page.kakao.com/content/55566760 is unreachable\n",
      "https://page.kakao.com/content/62676232 is unreachable\n",
      "https://page.kakao.com/content/61192172 is unreachable\n",
      "https://page.kakao.com/content/57611444 is unreachable\n",
      "https://page.kakao.com/content/61871204 is unreachable\n",
      "https://page.kakao.com/content/48511988 is unreachable\n",
      "https://page.kakao.com/content/62313653 is unreachable\n",
      "https://page.kakao.com/content/61871449 is unreachable\n",
      "https://page.kakao.com/content/57925268 is unreachable\n",
      "https://page.kakao.com/content/60355768 is unreachable\n",
      "https://page.kakao.com/content/59974943 is unreachable\n",
      "https://page.kakao.com/content/60423917 is unreachable\n",
      "https://page.kakao.com/content/61880498 is unreachable\n",
      "https://page.kakao.com/content/58493971 is unreachable\n",
      "https://page.kakao.com/content/54878314 is unreachable\n",
      "https://page.kakao.com/content/58409509 is unreachable\n",
      "https://page.kakao.com/content/61458011 is unreachable\n",
      "https://page.kakao.com/content/60176642 is unreachable\n",
      "https://page.kakao.com/content/53407844 is unreachable\n",
      "https://page.kakao.com/content/62020633 is unreachable\n",
      "https://page.kakao.com/content/60080445 is unreachable\n",
      "https://page.kakao.com/content/61641112 is unreachable\n",
      "https://page.kakao.com/content/62140202 is unreachable\n",
      "https://page.kakao.com/content/60982915 is unreachable\n",
      "https://page.kakao.com/content/62473721 is unreachable\n",
      "https://page.kakao.com/content/53504913 is unreachable\n",
      "https://page.kakao.com/content/61453044 is unreachable\n",
      "https://page.kakao.com/content/59359339 is unreachable\n",
      "https://page.kakao.com/content/61640511 is unreachable\n",
      "https://page.kakao.com/content/61453509 is unreachable\n",
      "https://page.kakao.com/content/61403397 is unreachable\n",
      "https://page.kakao.com/content/59807558 is unreachable\n",
      "https://page.kakao.com/content/61163740 is unreachable\n",
      "https://page.kakao.com/content/57015440 is unreachable\n",
      "https://page.kakao.com/content/62080380 is unreachable\n",
      "https://page.kakao.com/content/61594483 is unreachable\n",
      "https://page.kakao.com/content/60096304 is unreachable\n",
      "https://page.kakao.com/content/55752032 is unreachable\n",
      "https://page.kakao.com/content/55014563 is unreachable\n",
      "https://page.kakao.com/content/54473572 is unreachable\n",
      "https://page.kakao.com/content/54367994 is unreachable\n",
      "https://page.kakao.com/content/52381543 is unreachable\n"
     ]
    }
   ],
   "source": [
    "kakaoPageCrawler = KakaoPageCrawler(driver, \"mon\")\n",
    "kakaoPageCrawler.crawl()"
   ]
  },
  {
   "cell_type": "code",
   "execution_count": 10,
   "id": "888032e6-a134-46ac-97b2-9be7849348c6",
   "metadata": {},
   "outputs": [
    {
     "name": "stdout",
     "output_type": "stream",
     "text": [
      "Folder 'C:\\Users\\pyj78\\Desktop\\webtoon\\kakaoPage' already exists\n",
      "Folder 'kakaoPage\\webtoons' already exists\n",
      "https://page.kakao.com/content/63046544 is unreachable\n",
      "https://page.kakao.com/content/63024185 is unreachable\n",
      "https://page.kakao.com/content/60482121 is unreachable\n",
      "https://page.kakao.com/content/62011604 is unreachable\n",
      "https://page.kakao.com/content/60531893 is unreachable\n",
      "https://page.kakao.com/content/62777301 is unreachable\n"
     ]
    }
   ],
   "source": [
    "kakaoPageCrawler = KakaoPageCrawler(driver, \"tue\")\n",
    "kakaoPageCrawler.crawl()"
   ]
  },
  {
   "cell_type": "code",
   "execution_count": 11,
   "id": "ca9aaed3-712b-4e5a-9ec3-2ac04d67c4d1",
   "metadata": {},
   "outputs": [
    {
     "name": "stdout",
     "output_type": "stream",
     "text": [
      "Folder 'C:\\Users\\pyj78\\Desktop\\webtoon\\kakaoPage' already exists\n",
      "Folder 'kakaoPage\\webtoons' already exists\n",
      "https://page.kakao.com/content/54097394 is unreachable\n",
      "https://page.kakao.com/content/58743054 is unreachable\n",
      "https://page.kakao.com/content/62961293 is unreachable\n"
     ]
    }
   ],
   "source": [
    "kakaoPageCrawler = KakaoPageCrawler(driver, \"wed\")\n",
    "kakaoPageCrawler.crawl()"
   ]
  },
  {
   "cell_type": "code",
   "execution_count": null,
   "id": "26fd8d66-b76c-4f22-8a82-b30bc0829c0c",
   "metadata": {},
   "outputs": [],
   "source": []
  },
  {
   "cell_type": "code",
   "execution_count": null,
   "id": "4734c7d0-d4a4-4bb8-9a15-888a8a807a4b",
   "metadata": {},
   "outputs": [],
   "source": []
  },
  {
   "cell_type": "code",
   "execution_count": null,
   "id": "789b82e7-2822-4fe7-ae68-08ce2d88d7ce",
   "metadata": {},
   "outputs": [],
   "source": []
  },
  {
   "cell_type": "code",
   "execution_count": null,
   "id": "eb574d7a-7fce-4e85-a583-2be1e0b73673",
   "metadata": {},
   "outputs": [],
   "source": [
    "kakaoPageCrawler = KakaoPageCrawler(driver, \"thu\")\n",
    "kakaoPageCrawler.crawl()"
   ]
  },
  {
   "cell_type": "code",
   "execution_count": null,
   "id": "c69277a5-6177-4e14-8dae-0b800ccf9342",
   "metadata": {},
   "outputs": [],
   "source": [
    "kakaoPageCrawler = KakaoPageCrawler(driver, \"fri\")\n",
    "kakaoPageCrawler.crawl()"
   ]
  },
  {
   "cell_type": "code",
   "execution_count": null,
   "id": "67d20b2a-f11f-40e1-8817-839a942648b2",
   "metadata": {},
   "outputs": [],
   "source": [
    "kakaoPageCrawler = KakaoPageCrawler(driver, \"sat\")\n",
    "kakaoPageCrawler.crawl()"
   ]
  },
  {
   "cell_type": "code",
   "execution_count": null,
   "id": "64f7f47f-29fd-4ef5-858a-20f853afb6ec",
   "metadata": {},
   "outputs": [],
   "source": [
    "kakaoPageCrawler = KakaoPageCrawler(driver, \"sun\")\n",
    "kakaoPageCrawler.crawl()"
   ]
  },
  {
   "cell_type": "code",
   "execution_count": 12,
   "id": "0c14c2ab-cccf-45a7-b9d0-8bed9c3ace7e",
   "metadata": {},
   "outputs": [
    {
     "data": {
      "text/plain": [
       "66"
      ]
     },
     "execution_count": 12,
     "metadata": {},
     "output_type": "execute_result"
    }
   ],
   "source": [
    "len(unreachableUrls)"
   ]
  },
  {
   "cell_type": "code",
   "execution_count": 13,
   "id": "b6991079-752b-4459-811b-c93bb7ed5fa2",
   "metadata": {},
   "outputs": [
    {
     "data": {
      "text/plain": [
       "['https://page.kakao.com/content/62743785',\n",
       " 'https://page.kakao.com/content/62851300',\n",
       " 'https://page.kakao.com/content/62101502',\n",
       " 'https://page.kakao.com/content/62407115',\n",
       " 'https://page.kakao.com/content/61271601',\n",
       " 'https://page.kakao.com/content/62473764',\n",
       " 'https://page.kakao.com/content/61453042',\n",
       " 'https://page.kakao.com/content/56702100',\n",
       " 'https://page.kakao.com/content/54884637',\n",
       " 'https://page.kakao.com/content/60561657',\n",
       " 'https://page.kakao.com/content/61770596',\n",
       " 'https://page.kakao.com/content/60257175',\n",
       " 'https://page.kakao.com/content/61547597',\n",
       " 'https://page.kakao.com/content/59942846',\n",
       " 'https://page.kakao.com/content/55482233',\n",
       " 'https://page.kakao.com/content/55566760',\n",
       " 'https://page.kakao.com/content/62676232',\n",
       " 'https://page.kakao.com/content/61192172',\n",
       " 'https://page.kakao.com/content/57611444',\n",
       " 'https://page.kakao.com/content/61871204',\n",
       " 'https://page.kakao.com/content/48511988',\n",
       " 'https://page.kakao.com/content/62313653',\n",
       " 'https://page.kakao.com/content/61871449',\n",
       " 'https://page.kakao.com/content/57925268',\n",
       " 'https://page.kakao.com/content/60355768',\n",
       " 'https://page.kakao.com/content/59974943',\n",
       " 'https://page.kakao.com/content/60423917',\n",
       " 'https://page.kakao.com/content/61880498',\n",
       " 'https://page.kakao.com/content/58493971',\n",
       " 'https://page.kakao.com/content/54878314',\n",
       " 'https://page.kakao.com/content/58409509',\n",
       " 'https://page.kakao.com/content/61458011',\n",
       " 'https://page.kakao.com/content/60176642',\n",
       " 'https://page.kakao.com/content/53407844',\n",
       " 'https://page.kakao.com/content/62020633',\n",
       " 'https://page.kakao.com/content/60080445',\n",
       " 'https://page.kakao.com/content/61641112',\n",
       " 'https://page.kakao.com/content/62140202',\n",
       " 'https://page.kakao.com/content/60982915',\n",
       " 'https://page.kakao.com/content/62473721',\n",
       " 'https://page.kakao.com/content/53504913',\n",
       " 'https://page.kakao.com/content/61453044',\n",
       " 'https://page.kakao.com/content/59359339',\n",
       " 'https://page.kakao.com/content/61640511',\n",
       " 'https://page.kakao.com/content/61453509',\n",
       " 'https://page.kakao.com/content/61403397',\n",
       " 'https://page.kakao.com/content/59807558',\n",
       " 'https://page.kakao.com/content/61163740',\n",
       " 'https://page.kakao.com/content/57015440',\n",
       " 'https://page.kakao.com/content/62080380',\n",
       " 'https://page.kakao.com/content/61594483',\n",
       " 'https://page.kakao.com/content/60096304',\n",
       " 'https://page.kakao.com/content/55752032',\n",
       " 'https://page.kakao.com/content/55014563',\n",
       " 'https://page.kakao.com/content/54473572',\n",
       " 'https://page.kakao.com/content/54367994',\n",
       " 'https://page.kakao.com/content/52381543',\n",
       " 'https://page.kakao.com/content/63046544',\n",
       " 'https://page.kakao.com/content/63024185',\n",
       " 'https://page.kakao.com/content/60482121',\n",
       " 'https://page.kakao.com/content/62011604',\n",
       " 'https://page.kakao.com/content/60531893',\n",
       " 'https://page.kakao.com/content/62777301',\n",
       " 'https://page.kakao.com/content/54097394',\n",
       " 'https://page.kakao.com/content/58743054',\n",
       " 'https://page.kakao.com/content/62961293']"
      ]
     },
     "execution_count": 13,
     "metadata": {},
     "output_type": "execute_result"
    }
   ],
   "source": [
    "unreachableUrls"
   ]
  },
  {
   "cell_type": "code",
   "execution_count": null,
   "id": "fd6d12e8-889d-4c77-bf26-bf3b1187b1f2",
   "metadata": {},
   "outputs": [],
   "source": []
  }
 ],
 "metadata": {
  "kernelspec": {
   "display_name": "Python 3 (ipykernel)",
   "language": "python",
   "name": "python3"
  },
  "language_info": {
   "codemirror_mode": {
    "name": "ipython",
    "version": 3
   },
   "file_extension": ".py",
   "mimetype": "text/x-python",
   "name": "python",
   "nbconvert_exporter": "python",
   "pygments_lexer": "ipython3",
   "version": "3.12.0"
  }
 },
 "nbformat": 4,
 "nbformat_minor": 5
}
