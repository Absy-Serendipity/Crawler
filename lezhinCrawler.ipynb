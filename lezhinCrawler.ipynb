{
 "cells": [
  {
   "cell_type": "code",
   "execution_count": 8,
   "id": "52bfb1e0-65da-47e4-b1fc-ddef391f153b",
   "metadata": {},
   "outputs": [],
   "source": [
    "import requests\n",
    "from bs4 import BeautifulSoup\n",
    "from webdriver_manager.chrome import ChromeDriverManager\n",
    "import json\n",
    "import os\n",
    "from selenium.webdriver.common.keys import Keys\n",
    "from selenium import webdriver\n",
    "from selenium.webdriver.common.by import By\n",
    "from selenium.webdriver.support.ui import WebDriverWait\n",
    "from selenium.webdriver.support import expected_conditions as EC\n",
    "from datetime import datetime\n",
    "import platform\n",
    "import time\n",
    "import re"
   ]
  },
  {
   "cell_type": "code",
   "execution_count": 9,
   "id": "f55f6ca0-15d0-4f44-b992-7ca33fb1e734",
   "metadata": {},
   "outputs": [],
   "source": [
    "from Webtoon import Webtoon \n",
    "from Episode import Episode \n",
    "from Platform import Platform \n",
    "from Crawler import Crawler "
   ]
  },
  {
   "cell_type": "code",
   "execution_count": 10,
   "id": "1b874b07-36b7-48e0-98ab-ee698bc0e6a0",
   "metadata": {},
   "outputs": [],
   "source": [
    "id = 0"
   ]
  },
  {
   "cell_type": "code",
   "execution_count": 11,
   "id": "03f16546-cdc4-4752-9eae-537aac59352f",
   "metadata": {},
   "outputs": [],
   "source": [
    "ChromeDriverManager().install()\n",
    "driver = webdriver.Chrome()"
   ]
  },
  {
   "cell_type": "code",
   "execution_count": 12,
   "id": "9c259901-5822-4f3a-b1cf-d8410e691ba5",
   "metadata": {},
   "outputs": [],
   "source": [
    "days = [\n",
    "        \"mon\",\n",
    "        \"tue\",\n",
    "        \"wed\", \n",
    "        \"thu\", \n",
    "        \"fri\",\n",
    "        \"sat\",\n",
    "        \"sun\"\n",
    "    ]"
   ]
  },
  {
   "cell_type": "code",
   "execution_count": 13,
   "id": "8eaff57a-af54-4638-b1ce-e6e28ca5f1b3",
   "metadata": {},
   "outputs": [],
   "source": [
    "class LezhinWebtoonCrawler(Crawler):\n",
    "    def __init__(self, driver, day):\n",
    "        self.driver = driver\n",
    "        self.platformName = \"Lezhin\"\n",
    "        self.day = day\n",
    "\n",
    "        self.platform = Platform()\n",
    "        self.platform.setName(self.platformName)\n",
    "        self.platform.setDay(self.day)\n",
    "        \n",
    "        self.createFolder()\n",
    "        \n",
    "\n",
    "    def crawl(self):\n",
    "        \n",
    "        dayToNumberTable = {\n",
    "            \"mon\": 1,\n",
    "            \"tue\": 2,\n",
    "            \"wed\": 3, \n",
    "            \"thu\": 4, \n",
    "            \"fri\": 5,\n",
    "            \"sat\": 6,\n",
    "            \"sun\": 0\n",
    "        }\n",
    "    \n",
    "        dayNumber = str(dayToNumberTable[self.day])\n",
    "        url = \"https://www.lezhin.com/ko/scheduled?day=\" + dayNumber\n",
    "        self.driver.get(url)\n",
    "\n",
    "        dayElement = self.driver.find_element(By.ID, 'scheduled-day-' + dayNumber)\n",
    "\n",
    "\n",
    "    \n",
    "        webtoonElementList = dayElement.find_elements(By.CLASS_NAME, 'lzComic__item')\n",
    "        for webtoonElement in webtoonElementList:\n",
    "            wait = WebDriverWait(webtoonElement, 3)\n",
    "            webtoonUrl = wait.until(EC.presence_of_element_located((By.CLASS_NAME, 'lzComic__link'))).get_attribute('href')\n",
    "            imageUrl = \"https://ccdn.lezhin.com/v2/comics/\" + webtoonElement.get_attribute(\"data-id\") + \"/images/wide.webp\"\n",
    "            genre = wait.until(EC.presence_of_element_located((By.CLASS_NAME, 'lzComic__genre'))).text\n",
    "\n",
    "            webtoon = self.getWebtoon(webtoonUrl, imageUrl, genre)\n",
    "            self.platform.addWebtoon(webtoon)\n",
    "\n",
    "            episodes = self.getEpisodes(webtoonUrl)\n",
    "            global id\n",
    "            episodeFilePath = os.path.join( self.platformName, \"webtoons\",\"lz\" + str(id))\n",
    "            self.saveToJson(episodeFilePath, episodes)\n",
    "            id += 1\n",
    "\n",
    "        webtoonFilePath = os.path.join(self.platformName, self.platformName + \"_\" + self.day)\n",
    "        self.saveToJson(webtoonFilePath, self.platform)\n",
    "        \n",
    "\n",
    "    def getWebtoon(self, webtoonUrl, imageUrl, genre):\n",
    "        webtoon = Webtoon()\n",
    "        \n",
    "        webtoonJson = self.getWebtoonJson(webtoonUrl)\n",
    "        title = webtoonJson[\"display\"][\"title\"]\n",
    "        author = self.getAuthors(webtoonJson[\"artists\"])\n",
    "        serializedDay = webtoonJson[\"display\"][\"schedule\"]\n",
    "        summary = webtoonJson[\"display\"][\"synopsis\"]\n",
    "        \n",
    "        webtoon.setWebtoon(self.platformName, self.day, id, title, author, serializedDay, webtoonUrl, imageUrl, genre, summary)\n",
    "        return webtoon\n",
    "        \n",
    "    def getAuthors(self, authorList):\n",
    "        authors = \"\"\n",
    "        for author in authorList:\n",
    "            authors += author[\"name\"] + \" \"\n",
    "        return authors\n",
    "        \n",
    "    def getEpisodes(self, webtoonUrl):\n",
    "        webtoonJson = self.getWebtoonJson(webtoonUrl)\n",
    "            \n",
    "        webtoonId = webtoonJson[\"id\"]\n",
    "        imageBaseUrl = f\"https://ccdn.lezhin.com/v2/comics/{webtoonId}/episodes/{{}}/images/cover.jpg\"\n",
    "\n",
    "        episodeJson = webtoonJson[\"episodes\"]\n",
    "\n",
    "        episodeList = []\n",
    "        \n",
    "        for episode in episodeJson:\n",
    "            title = episode[\"display\"][\"title\"]\n",
    "            url = webtoonUrl + \"/\" + episode[\"name\"]\n",
    "            \n",
    "            imageUrl = imageBaseUrl.format(episode[\"id\"])\n",
    "            try:\n",
    "                publicationDate = self.getPublicationDate(episode[\"freedAt\"])\n",
    "            except:\n",
    "                publicationDate = self.getPublicationDate(episode[\"publishedAt\"])\n",
    "            episode = Episode(title, url, imageUrl, publicationDate)\n",
    "            episodeList.append(episode)\n",
    "              \n",
    "        return episodeList\n",
    "\n",
    "    def getWebtoonJson(self, webtoonUrl):\n",
    "        \n",
    "        response = requests.get(webtoonUrl)\n",
    "        soup = None\n",
    "        if response.status_code == 200:\n",
    "            soup = BeautifulSoup(response.text, 'html.parser')\n",
    "        else:\n",
    "            print(webtoonUrl)\n",
    "            print(\"요청 실패:\", response.status_code)\n",
    "        \n",
    "        \n",
    "        scriptTags = soup.find_all('script')\n",
    "        \n",
    "        productScript = None\n",
    "        \n",
    "        for scriptTag in scriptTags:\n",
    "            scriptContent = scriptTag.string\n",
    "            if scriptContent and '__LZ_PRODUCT__' in scriptContent:\n",
    "                productScript = scriptContent\n",
    "                break\n",
    "        \n",
    "        match = re.search(r'__LZ_PRODUCT__\\s*=\\s*({.*?});', productScript, re.DOTALL)\n",
    "        product = match.group(1)\n",
    "\n",
    "        \n",
    "        product =product.replace(\"productType:\", '\"productType\":')\n",
    "        product =product.replace(\"product:\", '\"product\":')\n",
    "        product =product.replace(\"'comic',\", '\"comic\",')\n",
    "        product =product.replace(\"prefree:\", '\"prefree\":')\n",
    "        product =product.replace(\"departure:\", '\"departure\":')\n",
    "        product =product.replace(\"''\", '\"\"')\n",
    "        product =product.replace('\"\"\\\\', '')\n",
    "        product =product.replace(\"all:\", '\"all\":')\n",
    "\n",
    "        try:\n",
    "            product = json.loads(product)\n",
    "        except:\n",
    "            with open(\"dump.json\", \"w\", encoding=\"utf-8\") as file:\n",
    "                file.write(product)\n",
    "        \n",
    "        return product[\"product\"]\n",
    "\n",
    "    def getPublicationDate(self, timestamp):\n",
    "        timestamp = timestamp / 1000 \n",
    "    \n",
    "        date = datetime.fromtimestamp(timestamp)\n",
    "        \n",
    "        return date.strftime(\"%y.%m.%d\") "
   ]
  },
  {
   "cell_type": "code",
   "execution_count": 14,
   "id": "4c096ea3-c406-4886-b965-8281fa5adc7d",
   "metadata": {},
   "outputs": [
    {
     "name": "stdout",
     "output_type": "stream",
     "text": [
      "Folder 'C:\\Users\\pyj78\\Desktop\\webtoon\\Lezhin' created successfully\n",
      "Folder 'Lezhin\\webtoons' created successfully\n"
     ]
    }
   ],
   "source": [
    "lezhinCrawler = LezhinWebtoonCrawler(driver, \"mon\")\n",
    "lezhinCrawler.crawl()"
   ]
  },
  {
   "cell_type": "code",
   "execution_count": 15,
   "id": "5c46bb0a-3a33-4145-878f-d7cf7a44318b",
   "metadata": {},
   "outputs": [
    {
     "name": "stdout",
     "output_type": "stream",
     "text": [
      "Folder 'C:\\Users\\pyj78\\Desktop\\webtoon\\Lezhin' already exists\n",
      "Folder 'Lezhin\\webtoons' already exists\n"
     ]
    }
   ],
   "source": [
    "lezhinCrawler = LezhinWebtoonCrawler(driver, \"tue\")\n",
    "lezhinCrawler.crawl()"
   ]
  },
  {
   "cell_type": "code",
   "execution_count": 16,
   "id": "bb92d7ce-d402-492e-9597-93fac765c20e",
   "metadata": {},
   "outputs": [
    {
     "name": "stdout",
     "output_type": "stream",
     "text": [
      "Folder 'C:\\Users\\pyj78\\Desktop\\webtoon\\Lezhin' already exists\n",
      "Folder 'Lezhin\\webtoons' already exists\n"
     ]
    }
   ],
   "source": [
    "lezhinCrawler = LezhinWebtoonCrawler(driver, \"wed\")\n",
    "lezhinCrawler.crawl()"
   ]
  },
  {
   "cell_type": "code",
   "execution_count": 17,
   "id": "5bf65894-ae07-4566-8fa5-2c0b77137f84",
   "metadata": {},
   "outputs": [
    {
     "name": "stdout",
     "output_type": "stream",
     "text": [
      "Folder 'C:\\Users\\pyj78\\Desktop\\webtoon\\Lezhin' already exists\n",
      "Folder 'Lezhin\\webtoons' already exists\n"
     ]
    }
   ],
   "source": [
    "lezhinCrawler = LezhinWebtoonCrawler(driver, \"thu\")\n",
    "lezhinCrawler.crawl()"
   ]
  },
  {
   "cell_type": "code",
   "execution_count": 18,
   "id": "d6276424-972a-41c6-ac6a-4354bead1021",
   "metadata": {},
   "outputs": [
    {
     "name": "stdout",
     "output_type": "stream",
     "text": [
      "Folder 'C:\\Users\\pyj78\\Desktop\\webtoon\\Lezhin' already exists\n",
      "Folder 'Lezhin\\webtoons' already exists\n"
     ]
    }
   ],
   "source": [
    "lezhinCrawler = LezhinWebtoonCrawler(driver, \"fri\")\n",
    "lezhinCrawler.crawl()"
   ]
  },
  {
   "cell_type": "code",
   "execution_count": 19,
   "id": "0bf66430-4ab5-4cd2-8ee9-034553931bc8",
   "metadata": {},
   "outputs": [
    {
     "name": "stdout",
     "output_type": "stream",
     "text": [
      "Folder 'C:\\Users\\pyj78\\Desktop\\webtoon\\Lezhin' already exists\n",
      "Folder 'Lezhin\\webtoons' already exists\n"
     ]
    }
   ],
   "source": [
    "lezhinCrawler = LezhinWebtoonCrawler(driver, \"sat\")\n",
    "lezhinCrawler.crawl()"
   ]
  },
  {
   "cell_type": "code",
   "execution_count": 20,
   "id": "82c3c969-a89d-4378-9465-8f0fa8e94173",
   "metadata": {},
   "outputs": [
    {
     "name": "stdout",
     "output_type": "stream",
     "text": [
      "Folder 'C:\\Users\\pyj78\\Desktop\\webtoon\\Lezhin' already exists\n",
      "Folder 'Lezhin\\webtoons' already exists\n"
     ]
    }
   ],
   "source": [
    "lezhinCrawler = LezhinWebtoonCrawler(driver, \"sun\")\n",
    "lezhinCrawler.crawl()"
   ]
  },
  {
   "cell_type": "code",
   "execution_count": null,
   "id": "1e876141-230a-4a6e-9cf4-8cee4dc77e30",
   "metadata": {},
   "outputs": [],
   "source": []
  },
  {
   "cell_type": "code",
   "execution_count": null,
   "id": "c162a055-54a8-43d0-80e1-46fc961600e1",
   "metadata": {},
   "outputs": [],
   "source": []
  }
 ],
 "metadata": {
  "kernelspec": {
   "display_name": "Python 3 (ipykernel)",
   "language": "python",
   "name": "python3"
  },
  "language_info": {
   "codemirror_mode": {
    "name": "ipython",
    "version": 3
   },
   "file_extension": ".py",
   "mimetype": "text/x-python",
   "name": "python",
   "nbconvert_exporter": "python",
   "pygments_lexer": "ipython3",
   "version": "3.12.0"
  }
 },
 "nbformat": 4,
 "nbformat_minor": 5
}
